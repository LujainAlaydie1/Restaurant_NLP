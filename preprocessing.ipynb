{
 "cells": [
  {
   "cell_type": "code",
   "execution_count": 1,
   "id": "7bc1e69b-4385-4636-b610-0fe5a668f9fd",
   "metadata": {
    "tags": []
   },
   "outputs": [],
   "source": [
    "import pandas as pd"
   ]
  },
  {
   "cell_type": "code",
   "execution_count": 2,
   "id": "b07a29ae-6169-49cd-9c61-0bf987e7be62",
   "metadata": {
    "tags": []
   },
   "outputs": [],
   "source": [
    "# Load the dataset\n",
    "dataset_path = \"unprocessed_resturants.csv\"\n",
    "df = pd.read_csv(dataset_path)"
   ]
  },
  {
   "cell_type": "code",
   "execution_count": 3,
   "id": "34ca9e1d-78df-4f8b-9440-934efdf282f6",
   "metadata": {
    "tags": []
   },
   "outputs": [],
   "source": [
    "# Preprocess the data (you can customize this based on your dataset)\n",
    "def preprocess_data(df):\n",
    "    # Handle missing values, if any\n",
    "    df.dropna(inplace=True)\n",
    "\n",
    "    # Apply any necessary transformations to the ingredients and instructions\n",
    "    # For example, you can convert ingredients to lowercase, remove special characters, etc.\n",
    "\n",
    "    return df"
   ]
  },
  {
   "cell_type": "code",
   "execution_count": 4,
   "id": "67502643-242b-47a9-b289-d0828aa30933",
   "metadata": {
    "tags": []
   },
   "outputs": [],
   "source": [
    "# Call the preprocess_data function\n",
    "df = preprocess_data(df)\n",
    "\n",
    "# Save the preprocessed data to a new CSV file\n",
    "df.to_csv(\"preprocessed_resturants.csv\", index=False)"
   ]
  },
  {
   "cell_type": "code",
   "execution_count": null,
   "id": "82019864-0f9a-4fc3-9980-2b7b39f9306a",
   "metadata": {},
   "outputs": [],
   "source": []
  }
 ],
 "metadata": {
  "kernelspec": {
   "display_name": "Python 3 (ipykernel)",
   "language": "python",
   "name": "python3"
  },
  "language_info": {
   "codemirror_mode": {
    "name": "ipython",
    "version": 3
   },
   "file_extension": ".py",
   "mimetype": "text/x-python",
   "name": "python",
   "nbconvert_exporter": "python",
   "pygments_lexer": "ipython3",
   "version": "3.8.18"
  }
 },
 "nbformat": 4,
 "nbformat_minor": 5
}
